{
 "cells": [
  {
   "cell_type": "code",
   "execution_count": 1,
   "metadata": {},
   "outputs": [
    {
     "ename": "NameError",
     "evalue": "name 'spark' is not defined",
     "output_type": "error",
     "traceback": [
      "\u001b[1;31m---------------------------------------------------------------------------\u001b[0m",
      "\u001b[1;31mNameError\u001b[0m                                 Traceback (most recent call last)",
      "\u001b[1;32m<ipython-input-1-54a9ca304ee1>\u001b[0m in \u001b[0;36m<module>\u001b[1;34m\u001b[0m\n\u001b[1;32m----> 1\u001b[1;33m \u001b[0mbirths\u001b[0m \u001b[1;33m=\u001b[0m \u001b[0mspark\u001b[0m\u001b[1;33m.\u001b[0m\u001b[0mtable\u001b[0m\u001b[1;33m(\u001b[0m\u001b[1;34m\"births_2018\"\u001b[0m\u001b[1;33m)\u001b[0m\u001b[1;33m\u001b[0m\u001b[1;33m\u001b[0m\u001b[0m\n\u001b[0m\u001b[0;32m      2\u001b[0m \u001b[0mdisplay\u001b[0m\u001b[1;33m(\u001b[0m\u001b[0mbirths\u001b[0m\u001b[1;33m)\u001b[0m\u001b[1;33m\u001b[0m\u001b[1;33m\u001b[0m\u001b[0m\n\u001b[0;32m      3\u001b[0m \u001b[0mbirths\u001b[0m\u001b[1;33m.\u001b[0m\u001b[0mcolumns\u001b[0m\u001b[1;33m\u001b[0m\u001b[1;33m\u001b[0m\u001b[0m\n",
      "\u001b[1;31mNameError\u001b[0m: name 'spark' is not defined"
     ]
    }
   ],
   "source": [
    "births = spark.table(\"births_2018\")\n",
    "display(births)\n",
    "births.columns"
   ]
  },
  {
   "cell_type": "code",
   "execution_count": 2,
   "metadata": {},
   "outputs": [
    {
     "data": {
      "text/html": [
       "<style scoped>\n",
       "  .ansiout {\n",
       "    display: block;\n",
       "    unicode-bidi: embed;\n",
       "    white-space: pre-wrap;\n",
       "    word-wrap: break-word;\n",
       "    word-break: break-all;\n",
       "    font-family: \"Source Code Pro\", \"Menlo\", monospace;;\n",
       "    font-size: 13px;\n",
       "    color: #555;\n",
       "    margin-left: 4px;\n",
       "    line-height: 19px;\n",
       "  }\n",
       "</style>\n",
       "<div class=\"ansiout\">Liczba wierszy: 3801534\n",
       "</div>"
      ]
     },
     "metadata": {},
     "output_type": "display_data"
    }
   ],
   "source": [
    "# wybranie kolumn gdzie bmi > 0\n",
    "data = (\n",
    "  births\n",
    "    .where(births['bmi'] > 0)\n",
    ")\n",
    "print(\"Liczba wierszy: %d\" % (data.count()))\n"
   ]
  },
  {
   "cell_type": "code",
   "execution_count": 3,
   "metadata": {},
   "outputs": [
    {
     "data": {
      "text/html": [
       "<style scoped>\n",
       "  .ansiout {\n",
       "    display: block;\n",
       "    unicode-bidi: embed;\n",
       "    white-space: pre-wrap;\n",
       "    word-wrap: break-word;\n",
       "    word-break: break-all;\n",
       "    font-family: \"Source Code Pro\", \"Menlo\", monospace;;\n",
       "    font-size: 13px;\n",
       "    color: #555;\n",
       "    margin-left: 4px;\n",
       "    line-height: 19px;\n",
       "  }\n",
       "</style>\n",
       "<div class=\"ansiout\">Liczba usuniętych pusty wierszy:  666965\n",
       "Liczba pozostałych wierszy: 3134569\n",
       "</div>"
      ]
     },
     "metadata": {},
     "output_type": "display_data"
    }
   ],
   "source": [
    "# usunięcie kolumn z pustymi wartościami\n",
    "births_data = data.dropna(how='any')\n",
    "print(\"Liczba usuniętych pusty wierszy: \", data.count() - births_data.count())\n",
    "print(\"Liczba pozostałych wierszy:\", births_data.count())"
   ]
  },
  {
   "cell_type": "code",
   "execution_count": 4,
   "metadata": {},
   "outputs": [
    {
     "data": {
      "text/html": [
       "<style scoped>\n",
       "  .ansiout {\n",
       "    display: block;\n",
       "    unicode-bidi: embed;\n",
       "    white-space: pre-wrap;\n",
       "    word-wrap: break-word;\n",
       "    word-break: break-all;\n",
       "    font-family: \"Source Code Pro\", \"Menlo\", monospace;;\n",
       "    font-size: 13px;\n",
       "    color: #555;\n",
       "    margin-left: 4px;\n",
       "    line-height: 19px;\n",
       "  }\n",
       "</style>\n",
       "<div class=\"ansiout\"></div>"
      ]
     },
     "metadata": {},
     "output_type": "display_data"
    }
   ],
   "source": [
    "from pyspark.ml import Pipeline\n",
    "from pyspark.ml.feature import StringIndexer\n",
    "from pyspark.ml.feature import VectorAssembler\n",
    "\n",
    "string_columns = ['ip_gon', 'mm_aicu', 'sex', 'ld_indl', 'mtran', 'rf_cesar', 'rf_cesarn']\n",
    "indexers = [StringIndexer(inputCol=column, outputCol=column+\"_index\").fit(births_data) for column in string_columns]\n",
    "\n",
    "vector_assembler = VectorAssembler(inputCols = list(set(births_data.columns) - set(string_columns) - set(['bmi'])), outputCol = 'features')\\\n",
    "\n",
    "\n",
    "pipeline = Pipeline(stages=indexers+[vector_assembler])\n",
    "births_data = pipeline.fit(births_data).transform(births_data).select(['features', 'bmi'])"
   ]
  },
  {
   "cell_type": "code",
   "execution_count": 5,
   "metadata": {},
   "outputs": [
    {
     "data": {
      "text/html": [
       "<div>\n",
       "<style scoped>\n",
       "    .dataframe tbody tr th:only-of-type {\n",
       "        vertical-align: middle;\n",
       "    }\n",
       "\n",
       "    .dataframe tbody tr th {\n",
       "        vertical-align: top;\n",
       "    }\n",
       "\n",
       "    .dataframe thead th {\n",
       "        text-align: right;\n",
       "    }\n",
       "</style>\n",
       "<table border=\"1\" class=\"dataframe\">\n",
       "  <thead>\n",
       "    <tr style=\"text-align: right;\">\n",
       "      <th></th>\n",
       "      <th>0</th>\n",
       "      <th>1</th>\n",
       "      <th>2</th>\n",
       "      <th>3</th>\n",
       "      <th>4</th>\n",
       "    </tr>\n",
       "  </thead>\n",
       "  <tbody>\n",
       "    <tr>\n",
       "      <th>summary</th>\n",
       "      <td>count</td>\n",
       "      <td>mean</td>\n",
       "      <td>stddev</td>\n",
       "      <td>min</td>\n",
       "      <td>max</td>\n",
       "    </tr>\n",
       "    <tr>\n",
       "      <th>bmi</th>\n",
       "      <td>3134569</td>\n",
       "      <td>28.759007827286588</td>\n",
       "      <td>12.483797151774885</td>\n",
       "      <td>13.0</td>\n",
       "      <td>99.9</td>\n",
       "    </tr>\n",
       "  </tbody>\n",
       "</table>\n",
       "</div>"
      ]
     },
     "metadata": {},
     "output_type": "display_data"
    }
   ],
   "source": [
    "# podstawowe statystyki dla danych\n",
    "births_data.describe().toPandas().transpose()"
   ]
  },
  {
   "cell_type": "code",
   "execution_count": 6,
   "metadata": {},
   "outputs": [
    {
     "data": {
      "text/html": [
       "<style scoped>\n",
       "  .ansiout {\n",
       "    display: block;\n",
       "    unicode-bidi: embed;\n",
       "    white-space: pre-wrap;\n",
       "    word-wrap: break-word;\n",
       "    word-break: break-all;\n",
       "    font-family: \"Source Code Pro\", \"Menlo\", monospace;;\n",
       "    font-size: 13px;\n",
       "    color: #555;\n",
       "    margin-left: 4px;\n",
       "    line-height: 19px;\n",
       "  }\n",
       "</style>\n",
       "<div class=\"ansiout\"></div>"
      ]
     },
     "metadata": {},
     "output_type": "display_data"
    }
   ],
   "source": [
    "splits = births_data.randomSplit([0.7, 0.3])\n",
    "trainingData = splits[0]\n",
    "testData = splits[1]"
   ]
  },
  {
   "cell_type": "code",
   "execution_count": 7,
   "metadata": {},
   "outputs": [
    {
     "data": {
      "text/html": [
       "<style scoped>\n",
       "  .ansiout {\n",
       "    display: block;\n",
       "    unicode-bidi: embed;\n",
       "    white-space: pre-wrap;\n",
       "    word-wrap: break-word;\n",
       "    word-break: break-all;\n",
       "    font-family: \"Source Code Pro\", \"Menlo\", monospace;;\n",
       "    font-size: 13px;\n",
       "    color: #555;\n",
       "    margin-left: 4px;\n",
       "    line-height: 19px;\n",
       "  }\n",
       "</style>\n",
       "<div class=\"ansiout\">+-------+------------------+\n",
       "summary|               bmi|\n",
       "+-------+------------------+\n",
       "  count|           2194005|\n",
       "   mean|  28.7578893418117|\n",
       " stddev|12.483044396530628|\n",
       "    min|              13.0|\n",
       "    max|              99.9|\n",
       "+-------+------------------+\n",
       "\n",
       "</div>"
      ]
     },
     "metadata": {},
     "output_type": "display_data"
    }
   ],
   "source": [
    "trainingData.describe().show()"
   ]
  },
  {
   "cell_type": "code",
   "execution_count": 8,
   "metadata": {},
   "outputs": [
    {
     "data": {
      "text/html": [
       "<style scoped>\n",
       "  .ansiout {\n",
       "    display: block;\n",
       "    unicode-bidi: embed;\n",
       "    white-space: pre-wrap;\n",
       "    word-wrap: break-word;\n",
       "    word-break: break-all;\n",
       "    font-family: \"Source Code Pro\", \"Menlo\", monospace;;\n",
       "    font-size: 13px;\n",
       "    color: #555;\n",
       "    margin-left: 4px;\n",
       "    line-height: 19px;\n",
       "  }\n",
       "</style>\n",
       "<div class=\"ansiout\">Wspolczynniki: [0.008776286432631822,-0.011637108128352532,-0.00024499324010087895,-0.21561172296356512,-0.12504533040448998,-0.009460520205417537,0.005955769753027569,0.13059796779392616,0.05204020497934182,-0.2271141675876309,-0.16301844411141692,-0.31707620328617453,0.17941401048588462,0.3703702619910818,-0.008582513166886274,0.1402857499058081,0.05154734019798334,0.024691639861312408,-0.00011107939913102131,0.056195601199978046,8.249304624031634e-05,0.0003755516272133685,0.0003154552923210158,-0.0845368457599498,0.00018243470824012167,0.006648273489882272,-0.042175021675902126,0.07335395638376234,0.011485650713139646,0.019958199558790333,0.001986457365394682,0.09425258668561698,-0.6590252162267692,0.014227144094411063,-0.002452084115286937,-0.028199491755175592,-1.704617091864481e-06,0.00019640868543561391,-0.006465132188382236,0.05732587250187496,-2.2456893528187983e-05,0.01368062216309355,-0.0023239572668661227]\n",
       "Wyraz wolny: -20.849732983290053\n",
       "RMSE: 4.424276\n",
       "r2: 0.874384\n",
       "</div>"
      ]
     },
     "metadata": {},
     "output_type": "display_data"
    }
   ],
   "source": [
    "#budowa modelu regresji liniowej \n",
    "from pyspark.ml.regression import LinearRegression\n",
    "linear = LinearRegression(featuresCol = \"features\", labelCol='bmi', maxIter=10)\n",
    "linear_model = linear.fit(trainingData)\n",
    "print(\"Wspolczynniki: \" + str(linear_model.coefficients))\n",
    "print(\"Wyraz wolny: \" + str(linear_model.intercept))\n",
    "\n",
    "trainingSummary = linear_model.summary\n",
    "print(\"RMSE: %f\" % trainingSummary.rootMeanSquaredError)\n",
    "print(\"r2: %f\" % trainingSummary.r2)"
   ]
  },
  {
   "cell_type": "code",
   "execution_count": 9,
   "metadata": {},
   "outputs": [
    {
     "data": {
      "text/html": [
       "<style scoped>\n",
       "  .ansiout {\n",
       "    display: block;\n",
       "    unicode-bidi: embed;\n",
       "    white-space: pre-wrap;\n",
       "    word-wrap: break-word;\n",
       "    word-break: break-all;\n",
       "    font-family: \"Source Code Pro\", \"Menlo\", monospace;;\n",
       "    font-size: 13px;\n",
       "    color: #555;\n",
       "    margin-left: 4px;\n",
       "    line-height: 19px;\n",
       "  }\n",
       "</style>\n",
       "<div class=\"ansiout\">+------------------+----+--------------------+\n",
       "        prediction| bmi|            features|\n",
       "+------------------+----+--------------------+\n",
       "22.671688958443873|22.4|[1.0,0.0,1.0,1.0,...|\n",
       "25.180374380098797|17.8|[1.0,0.0,1.0,1.0,...|\n",
       "20.238002473863823|18.5|[1.0,0.0,1.0,1.0,...|\n",
       "25.321538801474453|25.6|[1.0,0.0,1.0,1.0,...|\n",
       " 30.03439760098476|31.9|[1.0,0.0,1.0,1.0,...|\n",
       "+------------------+----+--------------------+\n",
       "only showing top 5 rows\n",
       "\n",
       "R Squared (R2) dla danych testowych = 0.873055\n",
       "Root Mean Squared Error (RMSE) dla danych testowych = 4.44852\n",
       "</div>"
      ]
     },
     "metadata": {},
     "output_type": "display_data"
    }
   ],
   "source": [
    "from pyspark.ml.evaluation import RegressionEvaluator\n",
    "#Testowanie na danych testowych\n",
    "linear_predictions = linear_model.transform(testData)\n",
    "linear_predictions.select(\"prediction\",\"bmi\",\"features\").show(5)\n",
    "linear_evaluator = RegressionEvaluator(predictionCol=\"prediction\", labelCol=\"bmi\",metricName=\"r2\")\n",
    "print(\"R Squared (R2) dla danych testowych = %g\" % linear_evaluator.evaluate(linear_predictions))\n",
    "test_result = linear_model.evaluate(testData)\n",
    "print(\"Root Mean Squared Error (RMSE) dla danych testowych = %g\" % test_result.rootMeanSquaredError)"
   ]
  },
  {
   "cell_type": "code",
   "execution_count": 10,
   "metadata": {},
   "outputs": [
    {
     "data": {
      "text/html": [
       "<style scoped>\n",
       "  .ansiout {\n",
       "    display: block;\n",
       "    unicode-bidi: embed;\n",
       "    white-space: pre-wrap;\n",
       "    word-wrap: break-word;\n",
       "    word-break: break-all;\n",
       "    font-family: \"Source Code Pro\", \"Menlo\", monospace;;\n",
       "    font-size: 13px;\n",
       "    color: #555;\n",
       "    margin-left: 4px;\n",
       "    line-height: 19px;\n",
       "  }\n",
       "</style>\n",
       "<div class=\"ansiout\"></div>"
      ]
     },
     "metadata": {},
     "output_type": "display_data"
    }
   ],
   "source": [
    "# Drzewa decyzyjne\n",
    "from pyspark.ml.regression import DecisionTreeRegressor\n",
    "from pyspark.ml import Pipeline\n",
    "from pyspark.ml.feature import VectorIndexer\n",
    "\n",
    "# Wykrycie zmiennych kategorycznyc, jezeli jest 5 lub mniej różnych wartości dla kolumny to traktujemy\n",
    "# ją jako zmienną kategoryczną\n",
    "featureIndexer = VectorIndexer(inputCol=\"features\", outputCol=\"indexedFeatures\", maxCategories=5).fit(births_data)\n",
    "decisionTreeReg = DecisionTreeRegressor(featuresCol ='indexedFeatures', labelCol = 'bmi')\n",
    "pipeline = Pipeline(stages=[featureIndexer, decisionTreeReg])\n",
    "\n",
    "decisionTreeReg_model = pipeline.fit(trainingData)"
   ]
  },
  {
   "cell_type": "code",
   "execution_count": 11,
   "metadata": {},
   "outputs": [
    {
     "data": {
      "text/html": [
       "<style scoped>\n",
       "  .ansiout {\n",
       "    display: block;\n",
       "    unicode-bidi: embed;\n",
       "    white-space: pre-wrap;\n",
       "    word-wrap: break-word;\n",
       "    word-break: break-all;\n",
       "    font-family: \"Source Code Pro\", \"Menlo\", monospace;;\n",
       "    font-size: 13px;\n",
       "    color: #555;\n",
       "    margin-left: 4px;\n",
       "    line-height: 19px;\n",
       "  }\n",
       "</style>\n",
       "<div class=\"ansiout\">DataFrame[features: vector, bmi: float, indexedFeatures: vector, prediction: double]\n",
       "+------------------+----+--------------------+\n",
       "        prediction| bmi|            features|\n",
       "+------------------+----+--------------------+\n",
       " 19.75095651762363|22.4|[1.0,0.0,1.0,1.0,...|\n",
       " 19.75095651762363|17.8|[1.0,0.0,1.0,1.0,...|\n",
       " 19.75095651762363|18.5|[1.0,0.0,1.0,1.0,...|\n",
       "  27.6065725961597|25.6|[1.0,0.0,1.0,1.0,...|\n",
       "34.075847804657066|31.9|[1.0,0.0,1.0,1.0,...|\n",
       "+------------------+----+--------------------+\n",
       "only showing top 5 rows\n",
       "\n",
       "Root Mean Squared Error (RMSE) na danych testowych = 2.77274\n",
       "R Squared (R2) dla danych testowych = 0.950682\n",
       "PipelineModel_654fd8f9deb8\n",
       "</div>"
      ]
     },
     "metadata": {},
     "output_type": "display_data"
    }
   ],
   "source": [
    "#Testowanie na danych testowych\n",
    "dt_predictions = decisionTreeReg_model.transform(testData)\n",
    "print(dt_predictions)\n",
    "rmse = RegressionEvaluator(labelCol=\"bmi\", predictionCol=\"prediction\", metricName=\"rmse\").evaluate(dt_predictions)\n",
    "r2 = RegressionEvaluator(predictionCol=\"prediction\", labelCol=\"bmi\", metricName=\"r2\").evaluate(dt_predictions)\n",
    "dt_predictions.select(\"prediction\", \"bmi\", \"features\").show(5)\n",
    "print(\"Root Mean Squared Error (RMSE) na danych testowych = %g\" % rmse)\n",
    "print(\"R Squared (R2) dla danych testowych = %g\" % r2)\n",
    "# summary only\n",
    "print(decisionTreeReg_model)"
   ]
  }
 ],
 "metadata": {
  "kernelspec": {
   "display_name": "Python 3",
   "language": "python",
   "name": "python3"
  },
  "language_info": {
   "codemirror_mode": {
    "name": "ipython",
    "version": 3
   },
   "file_extension": ".py",
   "mimetype": "text/x-python",
   "name": "python",
   "nbconvert_exporter": "python",
   "pygments_lexer": "ipython3",
   "version": "3.7.4"
  },
  "name": "Regresjav2",
  "notebookId": 2908082907044958
 },
 "nbformat": 4,
 "nbformat_minor": 1
}
